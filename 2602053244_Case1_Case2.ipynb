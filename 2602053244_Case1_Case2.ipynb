{
 "cells": [
  {
   "cell_type": "markdown",
   "metadata": {},
   "source": [
    "# Case 1"
   ]
  },
  {
   "cell_type": "markdown",
   "metadata": {},
   "source": [
    "## Library"
   ]
  },
  {
   "cell_type": "code",
   "execution_count": 1,
   "metadata": {
    "execution": {
     "iopub.execute_input": "2024-11-08T05:01:56.433286Z",
     "iopub.status.busy": "2024-11-08T05:01:56.432742Z",
     "iopub.status.idle": "2024-11-08T05:02:12.860528Z",
     "shell.execute_reply": "2024-11-08T05:02:12.859217Z",
     "shell.execute_reply.started": "2024-11-08T05:01:56.433240Z"
    },
    "trusted": true
   },
   "outputs": [],
   "source": [
    "import pandas as pd\n",
    "import numpy as np\n",
    "import keras\n",
    "from sklearn.model_selection import train_test_split\n",
    "from sklearn.linear_model import LassoCV\n",
    "import tensorflow as tf\n",
    "from tensorflow.keras.models import Sequential\n",
    "from tensorflow.keras.layers import Dense\n",
    "import matplotlib.pyplot as plt\n",
    "from sklearn.preprocessing import LabelEncoder, StandardScaler\n",
    "from tensorflow.keras.utils import to_categorical\n",
    "from sklearn.feature_selection import SelectKBest, mutual_info_classif"
   ]
  },
  {
   "cell_type": "markdown",
   "metadata": {},
   "source": [
    "## Load Dataset"
   ]
  },
  {
   "cell_type": "code",
   "execution_count": 2,
   "metadata": {
    "execution": {
     "iopub.execute_input": "2024-11-08T05:02:12.863144Z",
     "iopub.status.busy": "2024-11-08T05:02:12.862515Z",
     "iopub.status.idle": "2024-11-08T05:02:13.455520Z",
     "shell.execute_reply": "2024-11-08T05:02:13.454432Z",
     "shell.execute_reply.started": "2024-11-08T05:02:12.863103Z"
    },
    "trusted": true
   },
   "outputs": [
    {
     "data": {
      "text/html": [
       "<div>\n",
       "<style scoped>\n",
       "    .dataframe tbody tr th:only-of-type {\n",
       "        vertical-align: middle;\n",
       "    }\n",
       "\n",
       "    .dataframe tbody tr th {\n",
       "        vertical-align: top;\n",
       "    }\n",
       "\n",
       "    .dataframe thead th {\n",
       "        text-align: right;\n",
       "    }\n",
       "</style>\n",
       "<table border=\"1\" class=\"dataframe\">\n",
       "  <thead>\n",
       "    <tr style=\"text-align: right;\">\n",
       "      <th></th>\n",
       "      <th>tBodyAcc-mean()-X</th>\n",
       "      <th>tBodyAcc-mean()-Y</th>\n",
       "      <th>tBodyAcc-mean()-Z</th>\n",
       "      <th>tBodyAcc-std()-X</th>\n",
       "      <th>tBodyAcc-std()-Y</th>\n",
       "      <th>tBodyAcc-std()-Z</th>\n",
       "      <th>tBodyAcc-mad()-X</th>\n",
       "      <th>tBodyAcc-mad()-Y</th>\n",
       "      <th>tBodyAcc-mad()-Z</th>\n",
       "      <th>tBodyAcc-max()-X</th>\n",
       "      <th>...</th>\n",
       "      <th>fBodyBodyGyroJerkMag-kurtosis()</th>\n",
       "      <th>angle(tBodyAccMean,gravity)</th>\n",
       "      <th>angle(tBodyAccJerkMean),gravityMean)</th>\n",
       "      <th>angle(tBodyGyroMean,gravityMean)</th>\n",
       "      <th>angle(tBodyGyroJerkMean,gravityMean)</th>\n",
       "      <th>angle(X,gravityMean)</th>\n",
       "      <th>angle(Y,gravityMean)</th>\n",
       "      <th>angle(Z,gravityMean)</th>\n",
       "      <th>subject</th>\n",
       "      <th>Activity</th>\n",
       "    </tr>\n",
       "  </thead>\n",
       "  <tbody>\n",
       "    <tr>\n",
       "      <th>0</th>\n",
       "      <td>0.257178</td>\n",
       "      <td>-0.023285</td>\n",
       "      <td>-0.014654</td>\n",
       "      <td>-0.938404</td>\n",
       "      <td>-0.920091</td>\n",
       "      <td>-0.667683</td>\n",
       "      <td>-0.952501</td>\n",
       "      <td>-0.925249</td>\n",
       "      <td>-0.674302</td>\n",
       "      <td>-0.894088</td>\n",
       "      <td>...</td>\n",
       "      <td>-0.705974</td>\n",
       "      <td>0.006462</td>\n",
       "      <td>0.162920</td>\n",
       "      <td>-0.825886</td>\n",
       "      <td>0.271151</td>\n",
       "      <td>-0.720009</td>\n",
       "      <td>0.276801</td>\n",
       "      <td>-0.057978</td>\n",
       "      <td>2</td>\n",
       "      <td>STANDING</td>\n",
       "    </tr>\n",
       "    <tr>\n",
       "      <th>1</th>\n",
       "      <td>0.286027</td>\n",
       "      <td>-0.013163</td>\n",
       "      <td>-0.119083</td>\n",
       "      <td>-0.975415</td>\n",
       "      <td>-0.967458</td>\n",
       "      <td>-0.944958</td>\n",
       "      <td>-0.986799</td>\n",
       "      <td>-0.968401</td>\n",
       "      <td>-0.945823</td>\n",
       "      <td>-0.894088</td>\n",
       "      <td>...</td>\n",
       "      <td>-0.594944</td>\n",
       "      <td>-0.083495</td>\n",
       "      <td>0.017500</td>\n",
       "      <td>-0.434375</td>\n",
       "      <td>0.920593</td>\n",
       "      <td>-0.698091</td>\n",
       "      <td>0.281343</td>\n",
       "      <td>-0.083898</td>\n",
       "      <td>2</td>\n",
       "      <td>STANDING</td>\n",
       "    </tr>\n",
       "    <tr>\n",
       "      <th>2</th>\n",
       "      <td>0.275485</td>\n",
       "      <td>-0.026050</td>\n",
       "      <td>-0.118152</td>\n",
       "      <td>-0.993819</td>\n",
       "      <td>-0.969926</td>\n",
       "      <td>-0.962748</td>\n",
       "      <td>-0.994403</td>\n",
       "      <td>-0.970735</td>\n",
       "      <td>-0.963483</td>\n",
       "      <td>-0.939260</td>\n",
       "      <td>...</td>\n",
       "      <td>-0.640736</td>\n",
       "      <td>-0.034956</td>\n",
       "      <td>0.202302</td>\n",
       "      <td>0.064103</td>\n",
       "      <td>0.145068</td>\n",
       "      <td>-0.702771</td>\n",
       "      <td>0.280083</td>\n",
       "      <td>-0.079346</td>\n",
       "      <td>2</td>\n",
       "      <td>STANDING</td>\n",
       "    </tr>\n",
       "    <tr>\n",
       "      <th>3</th>\n",
       "      <td>0.270298</td>\n",
       "      <td>-0.032614</td>\n",
       "      <td>-0.117520</td>\n",
       "      <td>-0.994743</td>\n",
       "      <td>-0.973268</td>\n",
       "      <td>-0.967091</td>\n",
       "      <td>-0.995274</td>\n",
       "      <td>-0.974471</td>\n",
       "      <td>-0.968897</td>\n",
       "      <td>-0.938610</td>\n",
       "      <td>...</td>\n",
       "      <td>-0.736124</td>\n",
       "      <td>-0.017067</td>\n",
       "      <td>0.154438</td>\n",
       "      <td>0.340134</td>\n",
       "      <td>0.296407</td>\n",
       "      <td>-0.698954</td>\n",
       "      <td>0.284114</td>\n",
       "      <td>-0.077108</td>\n",
       "      <td>2</td>\n",
       "      <td>STANDING</td>\n",
       "    </tr>\n",
       "    <tr>\n",
       "      <th>4</th>\n",
       "      <td>0.274833</td>\n",
       "      <td>-0.027848</td>\n",
       "      <td>-0.129527</td>\n",
       "      <td>-0.993852</td>\n",
       "      <td>-0.967445</td>\n",
       "      <td>-0.978295</td>\n",
       "      <td>-0.994111</td>\n",
       "      <td>-0.965953</td>\n",
       "      <td>-0.977346</td>\n",
       "      <td>-0.938610</td>\n",
       "      <td>...</td>\n",
       "      <td>-0.846595</td>\n",
       "      <td>-0.002223</td>\n",
       "      <td>-0.040046</td>\n",
       "      <td>0.736715</td>\n",
       "      <td>-0.118545</td>\n",
       "      <td>-0.692245</td>\n",
       "      <td>0.290722</td>\n",
       "      <td>-0.073857</td>\n",
       "      <td>2</td>\n",
       "      <td>STANDING</td>\n",
       "    </tr>\n",
       "  </tbody>\n",
       "</table>\n",
       "<p>5 rows × 563 columns</p>\n",
       "</div>"
      ],
      "text/plain": [
       "   tBodyAcc-mean()-X  tBodyAcc-mean()-Y  tBodyAcc-mean()-Z  tBodyAcc-std()-X  \\\n",
       "0           0.257178          -0.023285          -0.014654         -0.938404   \n",
       "1           0.286027          -0.013163          -0.119083         -0.975415   \n",
       "2           0.275485          -0.026050          -0.118152         -0.993819   \n",
       "3           0.270298          -0.032614          -0.117520         -0.994743   \n",
       "4           0.274833          -0.027848          -0.129527         -0.993852   \n",
       "\n",
       "   tBodyAcc-std()-Y  tBodyAcc-std()-Z  tBodyAcc-mad()-X  tBodyAcc-mad()-Y  \\\n",
       "0         -0.920091         -0.667683         -0.952501         -0.925249   \n",
       "1         -0.967458         -0.944958         -0.986799         -0.968401   \n",
       "2         -0.969926         -0.962748         -0.994403         -0.970735   \n",
       "3         -0.973268         -0.967091         -0.995274         -0.974471   \n",
       "4         -0.967445         -0.978295         -0.994111         -0.965953   \n",
       "\n",
       "   tBodyAcc-mad()-Z  tBodyAcc-max()-X  ...  fBodyBodyGyroJerkMag-kurtosis()  \\\n",
       "0         -0.674302         -0.894088  ...                        -0.705974   \n",
       "1         -0.945823         -0.894088  ...                        -0.594944   \n",
       "2         -0.963483         -0.939260  ...                        -0.640736   \n",
       "3         -0.968897         -0.938610  ...                        -0.736124   \n",
       "4         -0.977346         -0.938610  ...                        -0.846595   \n",
       "\n",
       "   angle(tBodyAccMean,gravity)  angle(tBodyAccJerkMean),gravityMean)  \\\n",
       "0                     0.006462                              0.162920   \n",
       "1                    -0.083495                              0.017500   \n",
       "2                    -0.034956                              0.202302   \n",
       "3                    -0.017067                              0.154438   \n",
       "4                    -0.002223                             -0.040046   \n",
       "\n",
       "   angle(tBodyGyroMean,gravityMean)  angle(tBodyGyroJerkMean,gravityMean)  \\\n",
       "0                         -0.825886                              0.271151   \n",
       "1                         -0.434375                              0.920593   \n",
       "2                          0.064103                              0.145068   \n",
       "3                          0.340134                              0.296407   \n",
       "4                          0.736715                             -0.118545   \n",
       "\n",
       "   angle(X,gravityMean)  angle(Y,gravityMean)  angle(Z,gravityMean)  subject  \\\n",
       "0             -0.720009              0.276801             -0.057978        2   \n",
       "1             -0.698091              0.281343             -0.083898        2   \n",
       "2             -0.702771              0.280083             -0.079346        2   \n",
       "3             -0.698954              0.284114             -0.077108        2   \n",
       "4             -0.692245              0.290722             -0.073857        2   \n",
       "\n",
       "   Activity  \n",
       "0  STANDING  \n",
       "1  STANDING  \n",
       "2  STANDING  \n",
       "3  STANDING  \n",
       "4  STANDING  \n",
       "\n",
       "[5 rows x 563 columns]"
      ]
     },
     "execution_count": 2,
     "metadata": {},
     "output_type": "execute_result"
    }
   ],
   "source": [
    "data = pd.read_csv('/kaggle/input/accelerometer-data/accelerometer_data.csv')\n",
    "data.head()"
   ]
  },
  {
   "cell_type": "code",
   "execution_count": 4,
   "metadata": {
    "execution": {
     "iopub.execute_input": "2024-11-08T05:02:17.870613Z",
     "iopub.status.busy": "2024-11-08T05:02:17.870183Z",
     "iopub.status.idle": "2024-11-08T05:02:17.886385Z",
     "shell.execute_reply": "2024-11-08T05:02:17.885035Z",
     "shell.execute_reply.started": "2024-11-08T05:02:17.870573Z"
    },
    "trusted": true
   },
   "outputs": [
    {
     "name": "stdout",
     "output_type": "stream",
     "text": [
      "<class 'pandas.core.frame.DataFrame'>\n",
      "RangeIndex: 2947 entries, 0 to 2946\n",
      "Columns: 563 entries, tBodyAcc-mean()-X to Activity\n",
      "dtypes: float64(561), int64(1), object(1)\n",
      "memory usage: 12.7+ MB\n"
     ]
    }
   ],
   "source": [
    "data.info()"
   ]
  },
  {
   "cell_type": "markdown",
   "metadata": {},
   "source": [
    "## Data Preprocessing"
   ]
  },
  {
   "cell_type": "code",
   "execution_count": null,
   "metadata": {
    "execution": {
     "iopub.execute_input": "2024-11-08T05:02:37.111137Z",
     "iopub.status.busy": "2024-11-08T05:02:37.110713Z",
     "iopub.status.idle": "2024-11-08T05:02:37.182763Z",
     "shell.execute_reply": "2024-11-08T05:02:37.181544Z",
     "shell.execute_reply.started": "2024-11-08T05:02:37.111098Z"
    },
    "trusted": true
   },
   "outputs": [
    {
     "data": {
      "text/plain": [
       "((2947, 561),\n",
       " array([[-0.2777081 , -0.21063123,  2.19307573, ..., -0.40479042,\n",
       "          0.62272321, -0.0383485 ],\n",
       "        [ 0.19865964,  0.18259066, -0.25026383, ..., -0.36173867,\n",
       "          0.63673075, -0.14570918],\n",
       "        [ 0.02458676, -0.31805537, -0.22848456, ..., -0.37093228,\n",
       "          0.63284514, -0.12685534],\n",
       "        [-0.06105694, -0.57303707, -0.21370947, ..., -0.36343378,\n",
       "          0.64527635, -0.11758463],\n",
       "        [ 0.01382276, -0.38788085, -0.49463907, ..., -0.35025636,\n",
       "          0.6656567 , -0.10411803]]),\n",
       " array([2, 2, 2, 2, 2]))"
      ]
     },
     "execution_count": 5,
     "metadata": {},
     "output_type": "execute_result"
    }
   ],
   "source": [
    "from sklearn.preprocessing import LabelEncoder, StandardScaler\n",
    "\n",
    "X = data.drop(columns=['Activity', 'subject'], errors='ignore')  # Drop non-feature columns\n",
    "y = data['Activity']\n",
    "\n",
    "label_encoder = LabelEncoder()\n",
    "y_encoded = label_encoder.fit_transform(y)\n",
    "\n",
    "scaler = StandardScaler()\n",
    "X_scaled = scaler.fit_transform(X)\n",
    "\n",
    "X_scaled.shape, X_scaled[:5], y_encoded[:5]"
   ]
  },
  {
   "cell_type": "markdown",
   "metadata": {},
   "source": [
    "### Feature Selection"
   ]
  },
  {
   "cell_type": "code",
   "execution_count": null,
   "metadata": {
    "execution": {
     "iopub.execute_input": "2024-11-08T05:02:50.144240Z",
     "iopub.status.busy": "2024-11-08T05:02:50.143805Z",
     "iopub.status.idle": "2024-11-08T05:03:01.215430Z",
     "shell.execute_reply": "2024-11-08T05:03:01.214316Z",
     "shell.execute_reply.started": "2024-11-08T05:02:50.144200Z"
    },
    "trusted": true
   },
   "outputs": [
    {
     "name": "stderr",
     "output_type": "stream",
     "text": [
      "/opt/conda/lib/python3.10/site-packages/sklearn/linear_model/_coordinate_descent.py:617: ConvergenceWarning: Objective did not converge. You might want to increase the number of iterations. Duality gap: 0.8436916546505415, tolerance: 0.7005546881629183\n",
      "  model = cd_fast.enet_coordinate_descent_gram(\n",
      "/opt/conda/lib/python3.10/site-packages/sklearn/linear_model/_coordinate_descent.py:617: ConvergenceWarning: Objective did not converge. You might want to increase the number of iterations. Duality gap: 0.786188669551052, tolerance: 0.7005546881629183\n",
      "  model = cd_fast.enet_coordinate_descent_gram(\n",
      "/opt/conda/lib/python3.10/site-packages/sklearn/linear_model/_coordinate_descent.py:617: ConvergenceWarning: Objective did not converge. You might want to increase the number of iterations. Duality gap: 0.7782870600409524, tolerance: 0.7005546881629183\n",
      "  model = cd_fast.enet_coordinate_descent_gram(\n",
      "/opt/conda/lib/python3.10/site-packages/sklearn/linear_model/_coordinate_descent.py:617: ConvergenceWarning: Objective did not converge. You might want to increase the number of iterations. Duality gap: 1.3956283376383567, tolerance: 0.7005546881629183\n",
      "  model = cd_fast.enet_coordinate_descent_gram(\n",
      "/opt/conda/lib/python3.10/site-packages/sklearn/linear_model/_coordinate_descent.py:617: ConvergenceWarning: Objective did not converge. You might want to increase the number of iterations. Duality gap: 1.5221793948032882, tolerance: 0.7005546881629183\n",
      "  model = cd_fast.enet_coordinate_descent_gram(\n",
      "/opt/conda/lib/python3.10/site-packages/sklearn/linear_model/_coordinate_descent.py:617: ConvergenceWarning: Objective did not converge. You might want to increase the number of iterations. Duality gap: 0.6859503265394267, tolerance: 0.6813470513364446\n",
      "  model = cd_fast.enet_coordinate_descent_gram(\n",
      "/opt/conda/lib/python3.10/site-packages/sklearn/linear_model/_coordinate_descent.py:617: ConvergenceWarning: Objective did not converge. You might want to increase the number of iterations. Duality gap: 0.9272034180830531, tolerance: 0.6813470513364446\n",
      "  model = cd_fast.enet_coordinate_descent_gram(\n",
      "/opt/conda/lib/python3.10/site-packages/sklearn/linear_model/_coordinate_descent.py:617: ConvergenceWarning: Objective did not converge. You might want to increase the number of iterations. Duality gap: 0.7465261481254117, tolerance: 0.6813470513364446\n",
      "  model = cd_fast.enet_coordinate_descent_gram(\n",
      "/opt/conda/lib/python3.10/site-packages/sklearn/linear_model/_coordinate_descent.py:617: ConvergenceWarning: Objective did not converge. You might want to increase the number of iterations. Duality gap: 0.8017328549532294, tolerance: 0.6787677692960142\n",
      "  model = cd_fast.enet_coordinate_descent_gram(\n",
      "/opt/conda/lib/python3.10/site-packages/sklearn/linear_model/_coordinate_descent.py:617: ConvergenceWarning: Objective did not converge. You might want to increase the number of iterations. Duality gap: 1.3919406510492536, tolerance: 0.6787677692960142\n",
      "  model = cd_fast.enet_coordinate_descent_gram(\n",
      "/opt/conda/lib/python3.10/site-packages/sklearn/linear_model/_coordinate_descent.py:617: ConvergenceWarning: Objective did not converge. You might want to increase the number of iterations. Duality gap: 0.9980881348496098, tolerance: 0.6787677692960142\n",
      "  model = cd_fast.enet_coordinate_descent_gram(\n",
      "/opt/conda/lib/python3.10/site-packages/sklearn/linear_model/_coordinate_descent.py:617: ConvergenceWarning: Objective did not converge. You might want to increase the number of iterations. Duality gap: 0.7795589505666385, tolerance: 0.6787677692960142\n",
      "  model = cd_fast.enet_coordinate_descent_gram(\n",
      "/opt/conda/lib/python3.10/site-packages/sklearn/linear_model/_coordinate_descent.py:617: ConvergenceWarning: Objective did not converge. You might want to increase the number of iterations. Duality gap: 0.819457858528267, tolerance: 0.6787677692960142\n",
      "  model = cd_fast.enet_coordinate_descent_gram(\n",
      "/opt/conda/lib/python3.10/site-packages/sklearn/linear_model/_coordinate_descent.py:617: ConvergenceWarning: Objective did not converge. You might want to increase the number of iterations. Duality gap: 0.9088631643974168, tolerance: 0.695745419847328\n",
      "  model = cd_fast.enet_coordinate_descent_gram(\n",
      "/opt/conda/lib/python3.10/site-packages/sklearn/linear_model/_coordinate_descent.py:617: ConvergenceWarning: Objective did not converge. You might want to increase the number of iterations. Duality gap: 0.7173766437294944, tolerance: 0.695745419847328\n",
      "  model = cd_fast.enet_coordinate_descent_gram(\n",
      "/opt/conda/lib/python3.10/site-packages/sklearn/linear_model/_coordinate_descent.py:617: ConvergenceWarning: Objective did not converge. You might want to increase the number of iterations. Duality gap: 0.8385862986293091, tolerance: 0.695745419847328\n",
      "  model = cd_fast.enet_coordinate_descent_gram(\n",
      "/opt/conda/lib/python3.10/site-packages/sklearn/linear_model/_coordinate_descent.py:617: ConvergenceWarning: Objective did not converge. You might want to increase the number of iterations. Duality gap: 0.9550169315724588, tolerance: 0.6748166242578469\n",
      "  model = cd_fast.enet_coordinate_descent_gram(\n",
      "/opt/conda/lib/python3.10/site-packages/sklearn/linear_model/_coordinate_descent.py:617: ConvergenceWarning: Objective did not converge. You might want to increase the number of iterations. Duality gap: 0.8158265031725023, tolerance: 0.6748166242578469\n",
      "  model = cd_fast.enet_coordinate_descent_gram(\n",
      "/opt/conda/lib/python3.10/site-packages/sklearn/linear_model/_coordinate_descent.py:617: ConvergenceWarning: Objective did not converge. You might want to increase the number of iterations. Duality gap: 1.1323599107054179, tolerance: 0.6748166242578469\n",
      "  model = cd_fast.enet_coordinate_descent_gram(\n",
      "/opt/conda/lib/python3.10/site-packages/sklearn/linear_model/_coordinate_descent.py:617: ConvergenceWarning: Objective did not converge. You might want to increase the number of iterations. Duality gap: 1.1753493403116408, tolerance: 0.6748166242578469\n",
      "  model = cd_fast.enet_coordinate_descent_gram(\n",
      "/opt/conda/lib/python3.10/site-packages/sklearn/linear_model/_coordinate_descent.py:631: ConvergenceWarning: Objective did not converge. You might want to increase the number of iterations, check the scale of the features or consider increasing regularisation. Duality gap: 1.410e+01, tolerance: 8.578e-01\n",
      "  model = cd_fast.enet_coordinate_descent(\n"
     ]
    }
   ],
   "source": [
    "lasso = LassoCV(cv=5, random_state=42)\n",
    "lasso.fit(X_scaled, y_encoded)\n",
    "\n",
    "selected_features_mask = lasso.coef_ != 0\n",
    "selected_feature_names = X.columns[selected_features_mask] if hasattr(X, 'columns') else None"
   ]
  },
  {
   "cell_type": "code",
   "execution_count": null,
   "metadata": {
    "execution": {
     "iopub.execute_input": "2024-11-08T05:03:01.222277Z",
     "iopub.status.busy": "2024-11-08T05:03:01.217124Z",
     "iopub.status.idle": "2024-11-08T05:03:01.244002Z",
     "shell.execute_reply": "2024-11-08T05:03:01.242924Z",
     "shell.execute_reply.started": "2024-11-08T05:03:01.222213Z"
    },
    "trusted": true
   },
   "outputs": [
    {
     "name": "stdout",
     "output_type": "stream",
     "text": [
      "Jumlah fitur yang dipilih: 231\n",
      "Nama fitur yang dipilih: ['tBodyAcc-mean()-X', 'tBodyAcc-mean()-Z', 'tBodyAcc-std()-X', 'tBodyAcc-max()-X', 'tBodyAcc-max()-Y', 'tBodyAcc-max()-Z', 'tBodyAcc-min()-X', 'tBodyAcc-min()-Y', 'tBodyAcc-min()-Z', 'tBodyAcc-iqr()-X', 'tBodyAcc-iqr()-Z', 'tBodyAcc-entropy()-X', 'tBodyAcc-entropy()-Z', 'tBodyAcc-arCoeff()-X,2', 'tBodyAcc-arCoeff()-Y,4', 'tBodyAcc-arCoeff()-Z,1', 'tBodyAcc-correlation()-X,Z', 'tBodyAcc-correlation()-Y,Z', 'tGravityAcc-mean()-Z', 'tGravityAcc-std()-X', 'tGravityAcc-std()-Z', 'tGravityAcc-min()-Y', 'tGravityAcc-sma()', 'tGravityAcc-energy()-X', 'tGravityAcc-energy()-Z', 'tGravityAcc-iqr()-Y', 'tGravityAcc-iqr()-Z', 'tGravityAcc-entropy()-X', 'tGravityAcc-entropy()-Y', 'tGravityAcc-entropy()-Z', 'tGravityAcc-arCoeff()-X,1', 'tGravityAcc-arCoeff()-X,4', 'tGravityAcc-arCoeff()-Y,4', 'tGravityAcc-arCoeff()-Z,1', 'tGravityAcc-arCoeff()-Z,4', 'tGravityAcc-correlation()-X,Y', 'tGravityAcc-correlation()-X,Z', 'tGravityAcc-correlation()-Y,Z', 'tBodyAccJerk-mean()-Y', 'tBodyAccJerk-mean()-Z', 'tBodyAccJerk-std()-Z', 'tBodyAccJerk-max()-X', 'tBodyAccJerk-min()-Y', 'tBodyAccJerk-min()-Z', 'tBodyAccJerk-energy()-X', 'tBodyAccJerk-iqr()-X', 'tBodyAccJerk-iqr()-Z', 'tBodyAccJerk-arCoeff()-X,1', 'tBodyAccJerk-arCoeff()-X,3', 'tBodyAccJerk-arCoeff()-Y,3', 'tBodyAccJerk-arCoeff()-Y,4', 'tBodyAccJerk-arCoeff()-Z,1', 'tBodyAccJerk-arCoeff()-Z,2', 'tBodyAccJerk-arCoeff()-Z,4', 'tBodyAccJerk-correlation()-X,Y', 'tBodyAccJerk-correlation()-X,Z', 'tBodyAccJerk-correlation()-Y,Z', 'tBodyGyro-mean()-X', 'tBodyGyro-mean()-Y', 'tBodyGyro-mean()-Z', 'tBodyGyro-mad()-Y', 'tBodyGyro-max()-X', 'tBodyGyro-max()-Y', 'tBodyGyro-max()-Z', 'tBodyGyro-min()-Y', 'tBodyGyro-energy()-X', 'tBodyGyro-energy()-Z', 'tBodyGyro-iqr()-Y', 'tBodyGyro-iqr()-Z', 'tBodyGyro-entropy()-X', 'tBodyGyro-entropy()-Z', 'tBodyGyro-arCoeff()-X,1', 'tBodyGyro-arCoeff()-Z,4', 'tBodyGyro-correlation()-X,Y', 'tBodyGyro-correlation()-Y,Z', 'tBodyGyroJerk-mean()-X', 'tBodyGyroJerk-mean()-Y', 'tBodyGyroJerk-mean()-Z', 'tBodyGyroJerk-std()-Y', 'tBodyGyroJerk-mad()-Y', 'tBodyGyroJerk-mad()-Z', 'tBodyGyroJerk-min()-Z', 'tBodyGyroJerk-energy()-Z', 'tBodyGyroJerk-iqr()-Y', 'tBodyGyroJerk-iqr()-Z', 'tBodyGyroJerk-entropy()-X', 'tBodyGyroJerk-entropy()-Y', 'tBodyGyroJerk-entropy()-Z', 'tBodyGyroJerk-arCoeff()-X,2', 'tBodyGyroJerk-arCoeff()-X,3', 'tBodyGyroJerk-arCoeff()-X,4', 'tBodyGyroJerk-arCoeff()-Y,1', 'tBodyGyroJerk-arCoeff()-Y,2', 'tBodyGyroJerk-arCoeff()-Y,3', 'tBodyGyroJerk-arCoeff()-Z,3', 'tBodyGyroJerk-arCoeff()-Z,4', 'tBodyGyroJerk-correlation()-X,Y', 'tBodyGyroJerk-correlation()-X,Z', 'tBodyGyroJerk-correlation()-Y,Z', 'tBodyAccMag-iqr()', 'tBodyAccMag-arCoeff()3', 'tBodyAccMag-arCoeff()4', 'tGravityAccMag-iqr()', 'tGravityAccMag-arCoeff()3', 'tGravityAccMag-arCoeff()4', 'tBodyAccJerkMag-iqr()', 'tBodyAccJerkMag-arCoeff()1', 'tBodyAccJerkMag-arCoeff()3', 'tBodyAccJerkMag-arCoeff()4', 'tBodyGyroMag-std()', 'tBodyGyroMag-mad()', 'tBodyGyroMag-min()', 'tBodyGyroMag-entropy()', 'tBodyGyroMag-arCoeff()2', 'tBodyGyroMag-arCoeff()4', 'tBodyGyroJerkMag-min()', 'tBodyGyroJerkMag-arCoeff()2', 'tBodyGyroJerkMag-arCoeff()3', 'fBodyAcc-std()-X', 'fBodyAcc-std()-Y', 'fBodyAcc-std()-Z', 'fBodyAcc-mad()-X', 'fBodyAcc-mad()-Z', 'fBodyAcc-max()-X', 'fBodyAcc-min()-Y', 'fBodyAcc-min()-Z', 'fBodyAcc-iqr()-Z', 'fBodyAcc-entropy()-Z', 'fBodyAcc-maxInds-X', 'fBodyAcc-maxInds-Y', 'fBodyAcc-maxInds-Z', 'fBodyAcc-meanFreq()-X', 'fBodyAcc-meanFreq()-Y', 'fBodyAcc-meanFreq()-Z', 'fBodyAcc-skewness()-Y', 'fBodyAcc-kurtosis()-Z', 'fBodyAcc-bandsEnergy()-9,16', 'fBodyAcc-bandsEnergy()-25,32', 'fBodyAcc-bandsEnergy()-49,56', 'fBodyAcc-bandsEnergy()-17,32', 'fBodyAcc-bandsEnergy()-9,16.1', 'fBodyAcc-bandsEnergy()-49,56.1', 'fBodyAccJerk-std()-Y', 'fBodyAccJerk-std()-Z', 'fBodyAccJerk-max()-X', 'fBodyAccJerk-max()-Z', 'fBodyAccJerk-min()-X', 'fBodyAccJerk-min()-Z', 'fBodyAccJerk-maxInds-X', 'fBodyAccJerk-maxInds-Y', 'fBodyAccJerk-maxInds-Z', 'fBodyAccJerk-meanFreq()-Y', 'fBodyAccJerk-kurtosis()-X', 'fBodyAccJerk-skewness()-Y', 'fBodyAccJerk-skewness()-Z', 'fBodyAccJerk-bandsEnergy()-1,8', 'fBodyAccJerk-bandsEnergy()-9,16', 'fBodyAccJerk-bandsEnergy()-41,48', 'fBodyAccJerk-bandsEnergy()-57,64', 'fBodyAccJerk-bandsEnergy()-1,16', 'fBodyAccJerk-bandsEnergy()-17,24.1', 'fBodyAccJerk-bandsEnergy()-41,48.1', 'fBodyAccJerk-bandsEnergy()-57,64.1', 'fBodyAccJerk-bandsEnergy()-17,32.1', 'fBodyAccJerk-bandsEnergy()-33,48.1', 'fBodyAccJerk-bandsEnergy()-25,48.1', 'fBodyAccJerk-bandsEnergy()-1,8.2', 'fBodyAccJerk-bandsEnergy()-25,32.2', 'fBodyAccJerk-bandsEnergy()-41,48.2', 'fBodyAccJerk-bandsEnergy()-49,56.2', 'fBodyAccJerk-bandsEnergy()-57,64.2', 'fBodyAccJerk-bandsEnergy()-33,48.2', 'fBodyAccJerk-bandsEnergy()-25,48.2', 'fBodyGyro-mean()-X', 'fBodyGyro-std()-X', 'fBodyGyro-std()-Y', 'fBodyGyro-max()-Y', 'fBodyGyro-max()-Z', 'fBodyGyro-min()-X', 'fBodyGyro-min()-Z', 'fBodyGyro-iqr()-X', 'fBodyGyro-entropy()-X', 'fBodyGyro-entropy()-Y', 'fBodyGyro-maxInds-X', 'fBodyGyro-maxInds-Z', 'fBodyGyro-meanFreq()-X', 'fBodyGyro-meanFreq()-Y', 'fBodyGyro-skewness()-X', 'fBodyGyro-kurtosis()-Y', 'fBodyGyro-skewness()-Z', 'fBodyGyro-bandsEnergy()-1,8', 'fBodyGyro-bandsEnergy()-9,16', 'fBodyGyro-bandsEnergy()-17,24', 'fBodyGyro-bandsEnergy()-25,32', 'fBodyGyro-bandsEnergy()-41,48', 'fBodyGyro-bandsEnergy()-57,64', 'fBodyGyro-bandsEnergy()-1,16', 'fBodyGyro-bandsEnergy()-9,16.1', 'fBodyGyro-bandsEnergy()-25,32.1', 'fBodyGyro-bandsEnergy()-33,40.1', 'fBodyGyro-bandsEnergy()-49,56.1', 'fBodyGyro-bandsEnergy()-57,64.1', 'fBodyGyro-bandsEnergy()-17,32.1', 'fBodyGyro-bandsEnergy()-9,16.2', 'fBodyGyro-bandsEnergy()-25,32.2', 'fBodyGyro-bandsEnergy()-33,40.2', 'fBodyGyro-bandsEnergy()-49,56.2', 'fBodyGyro-bandsEnergy()-57,64.2', 'fBodyGyro-bandsEnergy()-17,32.2', 'fBodyAccMag-max()', 'fBodyAccMag-maxInds', 'fBodyAccMag-meanFreq()', 'fBodyAccMag-skewness()', 'fBodyBodyAccJerkMag-iqr()', 'fBodyBodyAccJerkMag-maxInds', 'fBodyBodyAccJerkMag-meanFreq()', 'fBodyBodyAccJerkMag-skewness()', 'fBodyBodyGyroMag-min()', 'fBodyBodyGyroMag-entropy()', 'fBodyBodyGyroMag-maxInds', 'fBodyBodyGyroMag-meanFreq()', 'fBodyBodyGyroMag-kurtosis()', 'fBodyBodyGyroJerkMag-min()', 'fBodyBodyGyroJerkMag-iqr()', 'fBodyBodyGyroJerkMag-meanFreq()', 'fBodyBodyGyroJerkMag-skewness()', 'angle(tBodyAccMean,gravity)', 'angle(tBodyAccJerkMean),gravityMean)', 'angle(tBodyGyroMean,gravityMean)', 'angle(tBodyGyroJerkMean,gravityMean)', 'angle(X,gravityMean)']\n"
     ]
    },
    {
     "data": {
      "text/plain": [
       "((2947, 231),\n",
       " array([[-0.2777081 ,  2.19307573, -0.78726748, ..., -1.36390046,\n",
       "          0.57548662, -0.40479042],\n",
       "        [ 0.19865964, -0.25026383, -0.87698449, ..., -0.74723226,\n",
       "          1.87119239, -0.36173867],\n",
       "        [ 0.02458676, -0.22848456, -0.92159817, ...,  0.03791916,\n",
       "          0.32393752, -0.37093228],\n",
       "        [-0.06105694, -0.21370947, -0.92383742, ...,  0.47269453,\n",
       "          0.62587432, -0.36343378],\n",
       "        [ 0.01382276, -0.49463907, -0.92167924, ...,  1.09734838,\n",
       "         -0.20199891, -0.35025636]]))"
      ]
     },
     "execution_count": 7,
     "metadata": {},
     "output_type": "execute_result"
    }
   ],
   "source": [
    "print(f\"Jumlah fitur yang dipilih: {selected_features_mask.sum()}\")\n",
    "if selected_feature_names is not None:\n",
    "    print(f\"Nama fitur yang dipilih: {selected_feature_names.tolist()}\")\n",
    "\n",
    "X_selected = X_scaled[:, selected_features_mask]\n",
    "X_selected.shape, X_selected[:5]"
   ]
  },
  {
   "cell_type": "code",
   "execution_count": null,
   "metadata": {
    "execution": {
     "iopub.execute_input": "2024-11-08T05:03:09.481218Z",
     "iopub.status.busy": "2024-11-08T05:03:09.480812Z",
     "iopub.status.idle": "2024-11-08T05:03:18.508068Z",
     "shell.execute_reply": "2024-11-08T05:03:18.506672Z",
     "shell.execute_reply.started": "2024-11-08T05:03:09.481181Z"
    },
    "trusted": true
   },
   "outputs": [
    {
     "name": "stdout",
     "output_type": "stream",
     "text": [
      "Jumlah fitur yang dipilih: 15\n",
      "Nama fitur yang dipilih: ['tBodyAcc-std()-X', 'tBodyAcc-max()-X', 'tGravityAcc-max()-Y', 'tGravityAcc-min()-X', 'tGravityAcc-min()-Y', 'tBodyAccJerk-max()-X', 'tBodyAccJerk-min()-Y', 'tBodyAccMag-max()', 'tGravityAccMag-max()', 'tBodyAccJerkMag-max()', 'fBodyAcc-energy()-X', 'fBodyAcc-bandsEnergy()-1,8', 'fBodyAcc-bandsEnergy()-1,16', 'fBodyAcc-bandsEnergy()-1,24', 'fBodyAccMag-mad()']\n"
     ]
    },
    {
     "data": {
      "text/plain": [
       "((2947, 15),\n",
       " array([[-0.78726748, -0.82474607, -0.65958816,  0.49242234, -0.66879215,\n",
       "         -0.59872423,  0.75620665, -0.44925229, -0.44925229, -0.69143883,\n",
       "         -0.74813523, -0.71677218, -0.74113647, -0.74781111, -0.3054681 ],\n",
       "        [-0.87698449, -0.82474607, -0.72683216,  0.49242234, -0.66879215,\n",
       "         -0.6333314 ,  0.80473678, -0.84975009, -0.84975009, -0.75663493,\n",
       "         -0.75638642, -0.72275945, -0.74826988, -0.75560511, -0.87604141],\n",
       "        [-0.92159817, -0.91098199, -0.72683216,  0.50086116, -0.66752007,\n",
       "         -0.8570322 ,  0.82853965, -0.9213348 , -0.9213348 , -0.84630054,\n",
       "         -0.75809395, -0.72331697, -0.74919641, -0.7568711 , -0.91627059],\n",
       "        [-0.92383742, -0.90974013, -0.72743769,  0.49808587, -0.69622765,\n",
       "         -0.8570322 ,  0.82853965, -0.9213348 , -0.9213348 , -0.84630054,\n",
       "         -0.75813774, -0.72335055, -0.74924024, -0.75690935, -0.91534335],\n",
       "        [-0.92167924, -0.90974013, -0.74699047,  0.49592195, -0.71223026,\n",
       "         -0.86344444,  0.83932057, -0.93660808, -0.93660808, -0.90874392,\n",
       "         -0.75809565, -0.72325273, -0.74918651, -0.75686278, -0.91268424]]))"
      ]
     },
     "execution_count": 8,
     "metadata": {},
     "output_type": "execute_result"
    }
   ],
   "source": [
    "from sklearn.feature_selection import SelectKBest, mutual_info_classif\n",
    "\n",
    "selector = SelectKBest(score_func=mutual_info_classif, k=15)\n",
    "X_selected = selector.fit_transform(X_scaled, y_encoded)\n",
    "\n",
    "selected_features_mask = selector.get_support()\n",
    "selected_feature_names = X.columns[selected_features_mask] if hasattr(X, 'columns') else None\n",
    "\n",
    "print(f\"Jumlah fitur yang dipilih: {selected_features_mask.sum()}\")\n",
    "if selected_feature_names is not None:\n",
    "    print(f\"Nama fitur yang dipilih: {selected_feature_names.tolist()}\")\n",
    "\n",
    "X_selected.shape, X_selected[:5]"
   ]
  },
  {
   "cell_type": "markdown",
   "metadata": {},
   "source": [
    "### Splitting Dataset & Encoding"
   ]
  },
  {
   "cell_type": "code",
   "execution_count": 12,
   "metadata": {
    "execution": {
     "iopub.execute_input": "2024-11-08T05:04:23.823438Z",
     "iopub.status.busy": "2024-11-08T05:04:23.823051Z",
     "iopub.status.idle": "2024-11-08T05:04:23.831144Z",
     "shell.execute_reply": "2024-11-08T05:04:23.829870Z",
     "shell.execute_reply.started": "2024-11-08T05:04:23.823402Z"
    },
    "trusted": true
   },
   "outputs": [],
   "source": [
    "X_train, X_temp, y_train, y_temp = train_test_split(X_selected, y_encoded, test_size=0.2, random_state=42)\n",
    "X_val, X_test, y_val, y_test = train_test_split(X_temp, y_temp, test_size=0.5, random_state=42)"
   ]
  },
  {
   "cell_type": "code",
   "execution_count": 13,
   "metadata": {
    "execution": {
     "iopub.execute_input": "2024-11-08T05:04:24.768539Z",
     "iopub.status.busy": "2024-11-08T05:04:24.767510Z",
     "iopub.status.idle": "2024-11-08T05:04:24.774371Z",
     "shell.execute_reply": "2024-11-08T05:04:24.773264Z",
     "shell.execute_reply.started": "2024-11-08T05:04:24.768459Z"
    },
    "trusted": true
   },
   "outputs": [],
   "source": [
    "y_train_encoded = to_categorical(y_train)\n",
    "y_val_encoded = to_categorical(y_val)\n",
    "y_test_encoded = to_categorical(y_test)"
   ]
  },
  {
   "cell_type": "markdown",
   "metadata": {},
   "source": [
    "## Building Model"
   ]
  },
  {
   "cell_type": "code",
   "execution_count": null,
   "metadata": {
    "execution": {
     "iopub.execute_input": "2024-11-08T05:04:03.164374Z",
     "iopub.status.busy": "2024-11-08T05:04:03.163922Z",
     "iopub.status.idle": "2024-11-08T05:04:03.299872Z",
     "shell.execute_reply": "2024-11-08T05:04:03.298800Z",
     "shell.execute_reply.started": "2024-11-08T05:04:03.164334Z"
    },
    "trusted": true
   },
   "outputs": [
    {
     "name": "stderr",
     "output_type": "stream",
     "text": [
      "/opt/conda/lib/python3.10/site-packages/keras/src/layers/core/dense.py:87: UserWarning: Do not pass an `input_shape`/`input_dim` argument to a layer. When using Sequential models, prefer using an `Input(shape)` object as the first layer in the model instead.\n",
      "  super().__init__(activity_regularizer=activity_regularizer, **kwargs)\n"
     ]
    },
    {
     "data": {
      "text/html": [
       "<pre style=\"white-space:pre;overflow-x:auto;line-height:normal;font-family:Menlo,'DejaVu Sans Mono',consolas,'Courier New',monospace\"><span style=\"font-weight: bold\">Model: \"sequential\"</span>\n",
       "</pre>\n"
      ],
      "text/plain": [
       "\u001b[1mModel: \"sequential\"\u001b[0m\n"
      ]
     },
     "metadata": {},
     "output_type": "display_data"
    },
    {
     "data": {
      "text/html": [
       "<pre style=\"white-space:pre;overflow-x:auto;line-height:normal;font-family:Menlo,'DejaVu Sans Mono',consolas,'Courier New',monospace\">┏━━━━━━━━━━━━━━━━━━━━━━━━━━━━━━━━━┳━━━━━━━━━━━━━━━━━━━━━━━━┳━━━━━━━━━━━━━━━┓\n",
       "┃<span style=\"font-weight: bold\"> Layer (type)                    </span>┃<span style=\"font-weight: bold\"> Output Shape           </span>┃<span style=\"font-weight: bold\">       Param # </span>┃\n",
       "┡━━━━━━━━━━━━━━━━━━━━━━━━━━━━━━━━━╇━━━━━━━━━━━━━━━━━━━━━━━━╇━━━━━━━━━━━━━━━┩\n",
       "│ dense (<span style=\"color: #0087ff; text-decoration-color: #0087ff\">Dense</span>)                   │ (<span style=\"color: #00d7ff; text-decoration-color: #00d7ff\">None</span>, <span style=\"color: #00af00; text-decoration-color: #00af00\">512</span>)            │         <span style=\"color: #00af00; text-decoration-color: #00af00\">8,192</span> │\n",
       "├─────────────────────────────────┼────────────────────────┼───────────────┤\n",
       "│ dense_1 (<span style=\"color: #0087ff; text-decoration-color: #0087ff\">Dense</span>)                 │ (<span style=\"color: #00d7ff; text-decoration-color: #00d7ff\">None</span>, <span style=\"color: #00af00; text-decoration-color: #00af00\">256</span>)            │       <span style=\"color: #00af00; text-decoration-color: #00af00\">131,328</span> │\n",
       "├─────────────────────────────────┼────────────────────────┼───────────────┤\n",
       "│ dense_2 (<span style=\"color: #0087ff; text-decoration-color: #0087ff\">Dense</span>)                 │ (<span style=\"color: #00d7ff; text-decoration-color: #00d7ff\">None</span>, <span style=\"color: #00af00; text-decoration-color: #00af00\">128</span>)            │        <span style=\"color: #00af00; text-decoration-color: #00af00\">32,896</span> │\n",
       "├─────────────────────────────────┼────────────────────────┼───────────────┤\n",
       "│ dense_3 (<span style=\"color: #0087ff; text-decoration-color: #0087ff\">Dense</span>)                 │ (<span style=\"color: #00d7ff; text-decoration-color: #00d7ff\">None</span>, <span style=\"color: #00af00; text-decoration-color: #00af00\">64</span>)             │         <span style=\"color: #00af00; text-decoration-color: #00af00\">8,256</span> │\n",
       "├─────────────────────────────────┼────────────────────────┼───────────────┤\n",
       "│ dense_4 (<span style=\"color: #0087ff; text-decoration-color: #0087ff\">Dense</span>)                 │ (<span style=\"color: #00d7ff; text-decoration-color: #00d7ff\">None</span>, <span style=\"color: #00af00; text-decoration-color: #00af00\">6</span>)              │           <span style=\"color: #00af00; text-decoration-color: #00af00\">390</span> │\n",
       "└─────────────────────────────────┴────────────────────────┴───────────────┘\n",
       "</pre>\n"
      ],
      "text/plain": [
       "┏━━━━━━━━━━━━━━━━━━━━━━━━━━━━━━━━━┳━━━━━━━━━━━━━━━━━━━━━━━━┳━━━━━━━━━━━━━━━┓\n",
       "┃\u001b[1m \u001b[0m\u001b[1mLayer (type)                   \u001b[0m\u001b[1m \u001b[0m┃\u001b[1m \u001b[0m\u001b[1mOutput Shape          \u001b[0m\u001b[1m \u001b[0m┃\u001b[1m \u001b[0m\u001b[1m      Param #\u001b[0m\u001b[1m \u001b[0m┃\n",
       "┡━━━━━━━━━━━━━━━━━━━━━━━━━━━━━━━━━╇━━━━━━━━━━━━━━━━━━━━━━━━╇━━━━━━━━━━━━━━━┩\n",
       "│ dense (\u001b[38;5;33mDense\u001b[0m)                   │ (\u001b[38;5;45mNone\u001b[0m, \u001b[38;5;34m512\u001b[0m)            │         \u001b[38;5;34m8,192\u001b[0m │\n",
       "├─────────────────────────────────┼────────────────────────┼───────────────┤\n",
       "│ dense_1 (\u001b[38;5;33mDense\u001b[0m)                 │ (\u001b[38;5;45mNone\u001b[0m, \u001b[38;5;34m256\u001b[0m)            │       \u001b[38;5;34m131,328\u001b[0m │\n",
       "├─────────────────────────────────┼────────────────────────┼───────────────┤\n",
       "│ dense_2 (\u001b[38;5;33mDense\u001b[0m)                 │ (\u001b[38;5;45mNone\u001b[0m, \u001b[38;5;34m128\u001b[0m)            │        \u001b[38;5;34m32,896\u001b[0m │\n",
       "├─────────────────────────────────┼────────────────────────┼───────────────┤\n",
       "│ dense_3 (\u001b[38;5;33mDense\u001b[0m)                 │ (\u001b[38;5;45mNone\u001b[0m, \u001b[38;5;34m64\u001b[0m)             │         \u001b[38;5;34m8,256\u001b[0m │\n",
       "├─────────────────────────────────┼────────────────────────┼───────────────┤\n",
       "│ dense_4 (\u001b[38;5;33mDense\u001b[0m)                 │ (\u001b[38;5;45mNone\u001b[0m, \u001b[38;5;34m6\u001b[0m)              │           \u001b[38;5;34m390\u001b[0m │\n",
       "└─────────────────────────────────┴────────────────────────┴───────────────┘\n"
      ]
     },
     "metadata": {},
     "output_type": "display_data"
    },
    {
     "data": {
      "text/html": [
       "<pre style=\"white-space:pre;overflow-x:auto;line-height:normal;font-family:Menlo,'DejaVu Sans Mono',consolas,'Courier New',monospace\"><span style=\"font-weight: bold\"> Total params: </span><span style=\"color: #00af00; text-decoration-color: #00af00\">181,062</span> (707.27 KB)\n",
       "</pre>\n"
      ],
      "text/plain": [
       "\u001b[1m Total params: \u001b[0m\u001b[38;5;34m181,062\u001b[0m (707.27 KB)\n"
      ]
     },
     "metadata": {},
     "output_type": "display_data"
    },
    {
     "data": {
      "text/html": [
       "<pre style=\"white-space:pre;overflow-x:auto;line-height:normal;font-family:Menlo,'DejaVu Sans Mono',consolas,'Courier New',monospace\"><span style=\"font-weight: bold\"> Trainable params: </span><span style=\"color: #00af00; text-decoration-color: #00af00\">181,062</span> (707.27 KB)\n",
       "</pre>\n"
      ],
      "text/plain": [
       "\u001b[1m Trainable params: \u001b[0m\u001b[38;5;34m181,062\u001b[0m (707.27 KB)\n"
      ]
     },
     "metadata": {},
     "output_type": "display_data"
    },
    {
     "data": {
      "text/html": [
       "<pre style=\"white-space:pre;overflow-x:auto;line-height:normal;font-family:Menlo,'DejaVu Sans Mono',consolas,'Courier New',monospace\"><span style=\"font-weight: bold\"> Non-trainable params: </span><span style=\"color: #00af00; text-decoration-color: #00af00\">0</span> (0.00 B)\n",
       "</pre>\n"
      ],
      "text/plain": [
       "\u001b[1m Non-trainable params: \u001b[0m\u001b[38;5;34m0\u001b[0m (0.00 B)\n"
      ]
     },
     "metadata": {},
     "output_type": "display_data"
    }
   ],
   "source": [
    "model = Sequential([\n",
    "    Dense(512, activation='sigmoid', input_shape=(15,)),\n",
    "    Dense(256, activation='sigmoid'),\n",
    "    Dense(128, activation='sigmoid'),\n",
    "    Dense(64, activation='sigmoid'),\n",
    "    Dense(len(np.unique(y)), activation='softmax') \n",
    "])\n",
    "\n",
    "model.summary()"
   ]
  },
  {
   "cell_type": "markdown",
   "metadata": {},
   "source": [
    "## Model Compile"
   ]
  },
  {
   "cell_type": "code",
   "execution_count": null,
   "metadata": {
    "execution": {
     "iopub.execute_input": "2024-11-08T05:04:27.129524Z",
     "iopub.status.busy": "2024-11-08T05:04:27.128635Z",
     "iopub.status.idle": "2024-11-08T05:04:46.409393Z",
     "shell.execute_reply": "2024-11-08T05:04:46.408151Z",
     "shell.execute_reply.started": "2024-11-08T05:04:27.129459Z"
    },
    "trusted": true
   },
   "outputs": [
    {
     "name": "stdout",
     "output_type": "stream",
     "text": [
      "Epoch 1/50\n",
      "\u001b[1m74/74\u001b[0m \u001b[32m━━━━━━━━━━━━━━━━━━━━\u001b[0m\u001b[37m\u001b[0m \u001b[1m2s\u001b[0m 7ms/step - accuracy: 0.2435 - loss: 1.7435 - val_accuracy: 0.4576 - val_loss: 1.1919\n",
      "Epoch 2/50\n",
      "\u001b[1m74/74\u001b[0m \u001b[32m━━━━━━━━━━━━━━━━━━━━\u001b[0m\u001b[37m\u001b[0m \u001b[1m0s\u001b[0m 4ms/step - accuracy: 0.5521 - loss: 1.1159 - val_accuracy: 0.5797 - val_loss: 0.9167\n",
      "Epoch 3/50\n",
      "\u001b[1m74/74\u001b[0m \u001b[32m━━━━━━━━━━━━━━━━━━━━\u001b[0m\u001b[37m\u001b[0m \u001b[1m0s\u001b[0m 4ms/step - accuracy: 0.6145 - loss: 0.8394 - val_accuracy: 0.6576 - val_loss: 0.7347\n",
      "Epoch 4/50\n",
      "\u001b[1m74/74\u001b[0m \u001b[32m━━━━━━━━━━━━━━━━━━━━\u001b[0m\u001b[37m\u001b[0m \u001b[1m0s\u001b[0m 5ms/step - accuracy: 0.6953 - loss: 0.6794 - val_accuracy: 0.6610 - val_loss: 0.6727\n",
      "Epoch 5/50\n",
      "\u001b[1m74/74\u001b[0m \u001b[32m━━━━━━━━━━━━━━━━━━━━\u001b[0m\u001b[37m\u001b[0m \u001b[1m0s\u001b[0m 5ms/step - accuracy: 0.6999 - loss: 0.6296 - val_accuracy: 0.6712 - val_loss: 0.6642\n",
      "Epoch 6/50\n",
      "\u001b[1m74/74\u001b[0m \u001b[32m━━━━━━━━━━━━━━━━━━━━\u001b[0m\u001b[37m\u001b[0m \u001b[1m0s\u001b[0m 4ms/step - accuracy: 0.7226 - loss: 0.5826 - val_accuracy: 0.7390 - val_loss: 0.5638\n",
      "Epoch 7/50\n",
      "\u001b[1m74/74\u001b[0m \u001b[32m━━━━━━━━━━━━━━━━━━━━\u001b[0m\u001b[37m\u001b[0m \u001b[1m0s\u001b[0m 4ms/step - accuracy: 0.7503 - loss: 0.5604 - val_accuracy: 0.7797 - val_loss: 0.5109\n",
      "Epoch 8/50\n",
      "\u001b[1m74/74\u001b[0m \u001b[32m━━━━━━━━━━━━━━━━━━━━\u001b[0m\u001b[37m\u001b[0m \u001b[1m0s\u001b[0m 4ms/step - accuracy: 0.8138 - loss: 0.4700 - val_accuracy: 0.8136 - val_loss: 0.4719\n",
      "Epoch 9/50\n",
      "\u001b[1m74/74\u001b[0m \u001b[32m━━━━━━━━━━━━━━━━━━━━\u001b[0m\u001b[37m\u001b[0m \u001b[1m0s\u001b[0m 4ms/step - accuracy: 0.7970 - loss: 0.4744 - val_accuracy: 0.8000 - val_loss: 0.5382\n",
      "Epoch 10/50\n",
      "\u001b[1m74/74\u001b[0m \u001b[32m━━━━━━━━━━━━━━━━━━━━\u001b[0m\u001b[37m\u001b[0m \u001b[1m0s\u001b[0m 4ms/step - accuracy: 0.8113 - loss: 0.4618 - val_accuracy: 0.8373 - val_loss: 0.4129\n",
      "Epoch 11/50\n",
      "\u001b[1m74/74\u001b[0m \u001b[32m━━━━━━━━━━━━━━━━━━━━\u001b[0m\u001b[37m\u001b[0m \u001b[1m0s\u001b[0m 4ms/step - accuracy: 0.8434 - loss: 0.4085 - val_accuracy: 0.7932 - val_loss: 0.5133\n",
      "Epoch 12/50\n",
      "\u001b[1m74/74\u001b[0m \u001b[32m━━━━━━━━━━━━━━━━━━━━\u001b[0m\u001b[37m\u001b[0m \u001b[1m0s\u001b[0m 4ms/step - accuracy: 0.8304 - loss: 0.4139 - val_accuracy: 0.8373 - val_loss: 0.3902\n",
      "Epoch 13/50\n",
      "\u001b[1m74/74\u001b[0m \u001b[32m━━━━━━━━━━━━━━━━━━━━\u001b[0m\u001b[37m\u001b[0m \u001b[1m0s\u001b[0m 5ms/step - accuracy: 0.8378 - loss: 0.3863 - val_accuracy: 0.8068 - val_loss: 0.4842\n",
      "Epoch 14/50\n",
      "\u001b[1m74/74\u001b[0m \u001b[32m━━━━━━━━━━━━━━━━━━━━\u001b[0m\u001b[37m\u001b[0m \u001b[1m0s\u001b[0m 4ms/step - accuracy: 0.8518 - loss: 0.3756 - val_accuracy: 0.8508 - val_loss: 0.3900\n",
      "Epoch 15/50\n",
      "\u001b[1m74/74\u001b[0m \u001b[32m━━━━━━━━━━━━━━━━━━━━\u001b[0m\u001b[37m\u001b[0m \u001b[1m0s\u001b[0m 4ms/step - accuracy: 0.8570 - loss: 0.3596 - val_accuracy: 0.8475 - val_loss: 0.3459\n",
      "Epoch 16/50\n",
      "\u001b[1m74/74\u001b[0m \u001b[32m━━━━━━━━━━━━━━━━━━━━\u001b[0m\u001b[37m\u001b[0m \u001b[1m0s\u001b[0m 4ms/step - accuracy: 0.8419 - loss: 0.3745 - val_accuracy: 0.8644 - val_loss: 0.3622\n",
      "Epoch 17/50\n",
      "\u001b[1m74/74\u001b[0m \u001b[32m━━━━━━━━━━━━━━━━━━━━\u001b[0m\u001b[37m\u001b[0m \u001b[1m0s\u001b[0m 4ms/step - accuracy: 0.8555 - loss: 0.3439 - val_accuracy: 0.8542 - val_loss: 0.3406\n",
      "Epoch 18/50\n",
      "\u001b[1m74/74\u001b[0m \u001b[32m━━━━━━━━━━━━━━━━━━━━\u001b[0m\u001b[37m\u001b[0m \u001b[1m0s\u001b[0m 4ms/step - accuracy: 0.8639 - loss: 0.3235 - val_accuracy: 0.8475 - val_loss: 0.3810\n",
      "Epoch 19/50\n",
      "\u001b[1m74/74\u001b[0m \u001b[32m━━━━━━━━━━━━━━━━━━━━\u001b[0m\u001b[37m\u001b[0m \u001b[1m0s\u001b[0m 4ms/step - accuracy: 0.8630 - loss: 0.3474 - val_accuracy: 0.8542 - val_loss: 0.3237\n",
      "Epoch 20/50\n",
      "\u001b[1m74/74\u001b[0m \u001b[32m━━━━━━━━━━━━━━━━━━━━\u001b[0m\u001b[37m\u001b[0m \u001b[1m0s\u001b[0m 4ms/step - accuracy: 0.8753 - loss: 0.3219 - val_accuracy: 0.8644 - val_loss: 0.3218\n",
      "Epoch 21/50\n",
      "\u001b[1m74/74\u001b[0m \u001b[32m━━━━━━━━━━━━━━━━━━━━\u001b[0m\u001b[37m\u001b[0m \u001b[1m0s\u001b[0m 4ms/step - accuracy: 0.8517 - loss: 0.3423 - val_accuracy: 0.8746 - val_loss: 0.3125\n",
      "Epoch 22/50\n",
      "\u001b[1m74/74\u001b[0m \u001b[32m━━━━━━━━━━━━━━━━━━━━\u001b[0m\u001b[37m\u001b[0m \u001b[1m0s\u001b[0m 4ms/step - accuracy: 0.8772 - loss: 0.3005 - val_accuracy: 0.8610 - val_loss: 0.3127\n",
      "Epoch 23/50\n",
      "\u001b[1m74/74\u001b[0m \u001b[32m━━━━━━━━━━━━━━━━━━━━\u001b[0m\u001b[37m\u001b[0m \u001b[1m0s\u001b[0m 4ms/step - accuracy: 0.8748 - loss: 0.3021 - val_accuracy: 0.8814 - val_loss: 0.3088\n",
      "Epoch 24/50\n",
      "\u001b[1m74/74\u001b[0m \u001b[32m━━━━━━━━━━━━━━━━━━━━\u001b[0m\u001b[37m\u001b[0m \u001b[1m0s\u001b[0m 4ms/step - accuracy: 0.8841 - loss: 0.2890 - val_accuracy: 0.8644 - val_loss: 0.3068\n",
      "Epoch 25/50\n",
      "\u001b[1m74/74\u001b[0m \u001b[32m━━━━━━━━━━━━━━━━━━━━\u001b[0m\u001b[37m\u001b[0m \u001b[1m0s\u001b[0m 4ms/step - accuracy: 0.8768 - loss: 0.2792 - val_accuracy: 0.8610 - val_loss: 0.3136\n",
      "Epoch 26/50\n",
      "\u001b[1m74/74\u001b[0m \u001b[32m━━━━━━━━━━━━━━━━━━━━\u001b[0m\u001b[37m\u001b[0m \u001b[1m0s\u001b[0m 4ms/step - accuracy: 0.8819 - loss: 0.2864 - val_accuracy: 0.8678 - val_loss: 0.3000\n",
      "Epoch 27/50\n",
      "\u001b[1m74/74\u001b[0m \u001b[32m━━━━━━━━━━━━━━━━━━━━\u001b[0m\u001b[37m\u001b[0m \u001b[1m0s\u001b[0m 4ms/step - accuracy: 0.8836 - loss: 0.2667 - val_accuracy: 0.8644 - val_loss: 0.3181\n",
      "Epoch 28/50\n",
      "\u001b[1m74/74\u001b[0m \u001b[32m━━━━━━━━━━━━━━━━━━━━\u001b[0m\u001b[37m\u001b[0m \u001b[1m0s\u001b[0m 4ms/step - accuracy: 0.8855 - loss: 0.2702 - val_accuracy: 0.8746 - val_loss: 0.2952\n",
      "Epoch 29/50\n",
      "\u001b[1m74/74\u001b[0m \u001b[32m━━━━━━━━━━━━━━━━━━━━\u001b[0m\u001b[37m\u001b[0m \u001b[1m0s\u001b[0m 4ms/step - accuracy: 0.8837 - loss: 0.2623 - val_accuracy: 0.8881 - val_loss: 0.2844\n",
      "Epoch 30/50\n",
      "\u001b[1m74/74\u001b[0m \u001b[32m━━━━━━━━━━━━━━━━━━━━\u001b[0m\u001b[37m\u001b[0m \u001b[1m0s\u001b[0m 4ms/step - accuracy: 0.8925 - loss: 0.2661 - val_accuracy: 0.8712 - val_loss: 0.2879\n",
      "Epoch 31/50\n",
      "\u001b[1m74/74\u001b[0m \u001b[32m━━━━━━━━━━━━━━━━━━━━\u001b[0m\u001b[37m\u001b[0m \u001b[1m0s\u001b[0m 4ms/step - accuracy: 0.8905 - loss: 0.2574 - val_accuracy: 0.8712 - val_loss: 0.3128\n",
      "Epoch 32/50\n",
      "\u001b[1m74/74\u001b[0m \u001b[32m━━━━━━━━━━━━━━━━━━━━\u001b[0m\u001b[37m\u001b[0m \u001b[1m0s\u001b[0m 4ms/step - accuracy: 0.8795 - loss: 0.2875 - val_accuracy: 0.8644 - val_loss: 0.3085\n",
      "Epoch 33/50\n",
      "\u001b[1m74/74\u001b[0m \u001b[32m━━━━━━━━━━━━━━━━━━━━\u001b[0m\u001b[37m\u001b[0m \u001b[1m0s\u001b[0m 4ms/step - accuracy: 0.8855 - loss: 0.2586 - val_accuracy: 0.8983 - val_loss: 0.2645\n",
      "Epoch 34/50\n",
      "\u001b[1m74/74\u001b[0m \u001b[32m━━━━━━━━━━━━━━━━━━━━\u001b[0m\u001b[37m\u001b[0m \u001b[1m0s\u001b[0m 4ms/step - accuracy: 0.8880 - loss: 0.2573 - val_accuracy: 0.8780 - val_loss: 0.2841\n",
      "Epoch 35/50\n",
      "\u001b[1m74/74\u001b[0m \u001b[32m━━━━━━━━━━━━━━━━━━━━\u001b[0m\u001b[37m\u001b[0m \u001b[1m0s\u001b[0m 4ms/step - accuracy: 0.9119 - loss: 0.2266 - val_accuracy: 0.9051 - val_loss: 0.2658\n",
      "Epoch 36/50\n",
      "\u001b[1m74/74\u001b[0m \u001b[32m━━━━━━━━━━━━━━━━━━━━\u001b[0m\u001b[37m\u001b[0m \u001b[1m0s\u001b[0m 4ms/step - accuracy: 0.9095 - loss: 0.2323 - val_accuracy: 0.8983 - val_loss: 0.2611\n",
      "Epoch 37/50\n",
      "\u001b[1m74/74\u001b[0m \u001b[32m━━━━━━━━━━━━━━━━━━━━\u001b[0m\u001b[37m\u001b[0m \u001b[1m0s\u001b[0m 4ms/step - accuracy: 0.8825 - loss: 0.2583 - val_accuracy: 0.9017 - val_loss: 0.2629\n",
      "Epoch 38/50\n",
      "\u001b[1m74/74\u001b[0m \u001b[32m━━━━━━━━━━━━━━━━━━━━\u001b[0m\u001b[37m\u001b[0m \u001b[1m0s\u001b[0m 4ms/step - accuracy: 0.8800 - loss: 0.2765 - val_accuracy: 0.8949 - val_loss: 0.2639\n",
      "Epoch 39/50\n",
      "\u001b[1m74/74\u001b[0m \u001b[32m━━━━━━━━━━━━━━━━━━━━\u001b[0m\u001b[37m\u001b[0m \u001b[1m0s\u001b[0m 4ms/step - accuracy: 0.8929 - loss: 0.2419 - val_accuracy: 0.8746 - val_loss: 0.2731\n",
      "Epoch 40/50\n",
      "\u001b[1m74/74\u001b[0m \u001b[32m━━━━━━━━━━━━━━━━━━━━\u001b[0m\u001b[37m\u001b[0m \u001b[1m0s\u001b[0m 4ms/step - accuracy: 0.8997 - loss: 0.2327 - val_accuracy: 0.8983 - val_loss: 0.2990\n",
      "Epoch 41/50\n",
      "\u001b[1m74/74\u001b[0m \u001b[32m━━━━━━━━━━━━━━━━━━━━\u001b[0m\u001b[37m\u001b[0m \u001b[1m0s\u001b[0m 4ms/step - accuracy: 0.8895 - loss: 0.2637 - val_accuracy: 0.8847 - val_loss: 0.2611\n",
      "Epoch 42/50\n",
      "\u001b[1m74/74\u001b[0m \u001b[32m━━━━━━━━━━━━━━━━━━━━\u001b[0m\u001b[37m\u001b[0m \u001b[1m0s\u001b[0m 5ms/step - accuracy: 0.9095 - loss: 0.2203 - val_accuracy: 0.8780 - val_loss: 0.2723\n",
      "Epoch 43/50\n",
      "\u001b[1m74/74\u001b[0m \u001b[32m━━━━━━━━━━━━━━━━━━━━\u001b[0m\u001b[37m\u001b[0m \u001b[1m1s\u001b[0m 4ms/step - accuracy: 0.8976 - loss: 0.2317 - val_accuracy: 0.8712 - val_loss: 0.2975\n",
      "Epoch 44/50\n",
      "\u001b[1m74/74\u001b[0m \u001b[32m━━━━━━━━━━━━━━━━━━━━\u001b[0m\u001b[37m\u001b[0m \u001b[1m0s\u001b[0m 4ms/step - accuracy: 0.8943 - loss: 0.2507 - val_accuracy: 0.9085 - val_loss: 0.2436\n",
      "Epoch 45/50\n",
      "\u001b[1m74/74\u001b[0m \u001b[32m━━━━━━━━━━━━━━━━━━━━\u001b[0m\u001b[37m\u001b[0m \u001b[1m0s\u001b[0m 4ms/step - accuracy: 0.9029 - loss: 0.2381 - val_accuracy: 0.9017 - val_loss: 0.2479\n",
      "Epoch 46/50\n",
      "\u001b[1m74/74\u001b[0m \u001b[32m━━━━━━━━━━━━━━━━━━━━\u001b[0m\u001b[37m\u001b[0m \u001b[1m0s\u001b[0m 4ms/step - accuracy: 0.8988 - loss: 0.2436 - val_accuracy: 0.8915 - val_loss: 0.2711\n",
      "Epoch 47/50\n",
      "\u001b[1m74/74\u001b[0m \u001b[32m━━━━━━━━━━━━━━━━━━━━\u001b[0m\u001b[37m\u001b[0m \u001b[1m0s\u001b[0m 4ms/step - accuracy: 0.8907 - loss: 0.2533 - val_accuracy: 0.9085 - val_loss: 0.2362\n",
      "Epoch 48/50\n",
      "\u001b[1m74/74\u001b[0m \u001b[32m━━━━━━━━━━━━━━━━━━━━\u001b[0m\u001b[37m\u001b[0m \u001b[1m0s\u001b[0m 4ms/step - accuracy: 0.8949 - loss: 0.2366 - val_accuracy: 0.9017 - val_loss: 0.2448\n",
      "Epoch 49/50\n",
      "\u001b[1m74/74\u001b[0m \u001b[32m━━━━━━━━━━━━━━━━━━━━\u001b[0m\u001b[37m\u001b[0m \u001b[1m0s\u001b[0m 4ms/step - accuracy: 0.9009 - loss: 0.2318 - val_accuracy: 0.8983 - val_loss: 0.2455\n",
      "Epoch 50/50\n",
      "\u001b[1m74/74\u001b[0m \u001b[32m━━━━━━━━━━━━━━━━━━━━\u001b[0m\u001b[37m\u001b[0m \u001b[1m0s\u001b[0m 4ms/step - accuracy: 0.9030 - loss: 0.2164 - val_accuracy: 0.9051 - val_loss: 0.2401\n"
     ]
    }
   ],
   "source": [
    "model.compile(optimizer='adam', loss='categorical_crossentropy', metrics=['accuracy'])\n",
    "\n",
    "history = model.fit(\n",
    "    X_train, y_train_encoded,\n",
    "    validation_data=(X_val, y_val_encoded),\n",
    "    epochs=50, \n",
    "    batch_size=32,\n",
    "    verbose=1\n",
    ")"
   ]
  },
  {
   "cell_type": "markdown",
   "metadata": {},
   "source": [
    "## Model Evaluation & Classification Reports"
   ]
  },
  {
   "cell_type": "code",
   "execution_count": 18,
   "metadata": {
    "execution": {
     "iopub.execute_input": "2024-11-08T05:11:14.628410Z",
     "iopub.status.busy": "2024-11-08T05:11:14.627922Z",
     "iopub.status.idle": "2024-11-08T05:11:14.731273Z",
     "shell.execute_reply": "2024-11-08T05:11:14.730089Z",
     "shell.execute_reply.started": "2024-11-08T05:11:14.628371Z"
    },
    "trusted": true
   },
   "outputs": [
    {
     "name": "stdout",
     "output_type": "stream",
     "text": [
      "\n",
      "Test Loss: 0.19710326194763184\n",
      "Test Accuracy: 0.9084745645523071\n"
     ]
    }
   ],
   "source": [
    "test_loss, test_accuracy = model.evaluate(X_test, y_test_encoded, verbose=0)\n",
    "print(f\"\\nTest Loss: {test_loss:}\")\n",
    "print(f\"Test Accuracy: {test_accuracy}\")"
   ]
  },
  {
   "cell_type": "code",
   "execution_count": null,
   "metadata": {
    "execution": {
     "iopub.execute_input": "2024-11-08T05:05:02.230449Z",
     "iopub.status.busy": "2024-11-08T05:05:02.229297Z",
     "iopub.status.idle": "2024-11-08T05:05:02.450824Z",
     "shell.execute_reply": "2024-11-08T05:05:02.449561Z",
     "shell.execute_reply.started": "2024-11-08T05:05:02.230396Z"
    },
    "trusted": true
   },
   "outputs": [
    {
     "name": "stdout",
     "output_type": "stream",
     "text": [
      "\u001b[1m10/10\u001b[0m \u001b[32m━━━━━━━━━━━━━━━━━━━━\u001b[0m\u001b[37m\u001b[0m \u001b[1m0s\u001b[0m 7ms/step\n",
      "\n",
      "Classification Report:\n",
      "                    precision    recall  f1-score   support\n",
      "\n",
      "            LAYING       1.00      1.00      1.00        56\n",
      "           SITTING       0.81      0.94      0.87        53\n",
      "          STANDING       0.92      0.75      0.83        48\n",
      "           WALKING       0.91      0.93      0.92        44\n",
      "WALKING_DOWNSTAIRS       0.95      0.90      0.93        42\n",
      "  WALKING_UPSTAIRS       0.89      0.90      0.90        52\n",
      "\n",
      "          accuracy                           0.91       295\n",
      "         macro avg       0.91      0.91      0.91       295\n",
      "      weighted avg       0.91      0.91      0.91       295\n",
      "\n"
     ]
    }
   ],
   "source": [
    "from sklearn.metrics import classification_report\n",
    "\n",
    "y_pred_encoded = model.predict(X_test)\n",
    "y_pred = np.argmax(y_pred_encoded, axis=1)  \n",
    "\n",
    "y_test_labels = np.argmax(y_test_encoded, axis=1)\n",
    "\n",
    "report = classification_report(y_test_labels, y_pred, target_names=label_encoder.classes_)\n",
    "print(\"\\nClassification Report:\")\n",
    "print(report)"
   ]
  },
  {
   "cell_type": "markdown",
   "metadata": {},
   "source": [
    "## Plotting"
   ]
  },
  {
   "cell_type": "code",
   "execution_count": null,
   "metadata": {
    "execution": {
     "iopub.execute_input": "2024-11-08T05:05:13.748876Z",
     "iopub.status.busy": "2024-11-08T05:05:13.748399Z",
     "iopub.status.idle": "2024-11-08T05:05:14.367222Z",
     "shell.execute_reply": "2024-11-08T05:05:14.365964Z",
     "shell.execute_reply.started": "2024-11-08T05:05:13.748834Z"
    },
    "trusted": true
   },
   "outputs": [
    {
     "data": {
      "image/png": "[encoded data removed]",
      "text/plain": [
       "<Figure size 1000x600 with 1 Axes>"
      ]
     },
     "metadata": {},
     "output_type": "display_data"
    },
    {
     "data": {
      "image/png": "[encoded data removed]",
      "text/plain": [
       "<Figure size 1000x600 with 1 Axes>"
      ]
     },
     "metadata": {},
     "output_type": "display_data"
    }
   ],
   "source": [
    "plt.figure(figsize=(10, 6))\n",
    "plt.plot(history.history['accuracy'], label='Training Accuracy')\n",
    "plt.plot(history.history['val_accuracy'], label='Validation Accuracy')\n",
    "plt.xlabel('Epochs')\n",
    "plt.ylabel('Accuracy')\n",
    "plt.title('Model Accuracy')\n",
    "plt.legend()\n",
    "plt.grid(True)\n",
    "plt.show()\n",
    "\n",
    "\n",
    "plt.figure(figsize=(10, 6))\n",
    "plt.plot(history.history['loss'], label='Training Loss')\n",
    "plt.plot(history.history['val_loss'], label='Validation Loss')\n",
    "plt.xlabel('Epochs')\n",
    "plt.ylabel('Loss')\n",
    "plt.title('Model Loss')\n",
    "plt.legend()\n",
    "plt.grid(True)\n",
    "plt.show()"
   ]
  },
  {
   "cell_type": "markdown",
   "metadata": {},
   "source": [
    "## Kesimpulan\n",
    "\n",
    "1. Melakukan pemilihan fitur akselerometer yang relevan untuk mengenali aktivitas manusia sebanyak 15 fitur (misalnya, mean dan standar deviasi dari sensor). Fitur-fitur ini dinormalisasi agar nilai-nilainya seimbang, yang penting agar model bekerja lebih optima Di sini saya mencoba menggunakan LassoCV namun saya saat saya coba ternyata saya tidak bisa. Jadi saya memutuhkan untuk menggunakan selector SelectKBest sebagai metode untuk feature selection saya.l.\n",
    "\n",
    "2. Dataset akan menjadi tiga bagian yaitu train (80%), validation (10%), dan test (10%) untuk memastikan model dilatih dan diuji secara adil.\n",
    "\n",
    "3. Model yang dipakai akan menggunakan Model neural network yang memiliki 4 hidden layer, mulai dari 512 neuron pada layer pertama, dan setiap layer berikutnya memiliki setengah dari layer neuron sebelumnya. Oupput layer menggunakan softmax untuk klasifikasi aktivitas.\n",
    "\n",
    "4. Model akan di train selama 50 epoch, dan mencatat akurasi serta loss di setiap epoch untuk melihat performanya. Pada akhir Train model, model diuji pada test set untuk mengukur akurasinya pada data baru.\n",
    "\n",
    "## Hasil Dari Testing\n",
    "\n",
    "- Secara keseluruhan, penelitian ini menunjukkan hasil Grafik akurasi dan loss yang membantu untuk mengevaluasi apakah model overfit (terlalu menyesuaikan data latihan) atau underfit (tidak cukup menangkap pola). Idealnya, akurasi training dan validation serupa dan tinggi. Jika akurasi test tinggi dan konsisten dengan validation, model sia\n",
    "\n",
    "- Dari hasil train dan testing kita mendapatkan hasil yang cukup bagus yang artinya tidak overfit ataupun underfit. Hal itu  bisa saya pastikan karena dari hasil train sebanyak 50 Epochs menunjukan -> accuracy: 0.9030 - loss: 0.2164 - val_accuracy: 0.9051 - val_loss: 0.2401. Perkembangan antara accuracy dengan validation accuracy yang meningkat dan loss dengan validation loss yang menurunl_loss: 0.9058\n",
    "\n",
    "- Hasil Test Loss Yang sudah di train juga menunjuka0.19710326194763184 atau 19.7%9088796973228455 dan Test A0.9084745645523071 atau 90.8%6000000238418579\n",
    "\n",
    "- Kita juga bisa melihat Classification Reportnya berdasarkan nilai dari precision, recall, f1- menunjukan bahwa hasil yang di peroleh oleh model cukup bagus dan tidak ada masalahscore, dan support\n",
    "\n",
    "- Berdasarkan grafik yang ditampilkan dan hasil daritidak  train model, mode overfiting ataupun underfittinglngalami overfitting karena akurasi cukup ta peladengant tingginyan tidak terbawa pada data validasi. Hal ini menusudah cukup baik.baik pada data baru."
   ]
  },
  {
   "cell_type": "markdown",
   "metadata": {},
   "source": [
    "# Case 2"
   ]
  },
  {
   "cell_type": "markdown",
   "metadata": {},
   "source": [
    "## Library"
   ]
  },
  {
   "cell_type": "code",
   "execution_count": null,
   "metadata": {
    "execution": {
     "iopub.execute_input": "2024-11-02T15:38:03.446060Z",
     "iopub.status.busy": "2024-11-02T15:38:03.445501Z",
     "iopub.status.idle": "2024-11-02T15:38:03.453511Z",
     "shell.execute_reply": "2024-11-02T15:38:03.452147Z",
     "shell.execute_reply.started": "2024-11-02T15:38:03.446011Z"
    },
    "trusted": true
   },
   "outputs": [],
   "source": [
    "import os\n",
    "import tensorflow as tf\n",
    "from tensorflow.keras.preprocessing.image import ImageDataGenerator\n",
    "import tensorflow as tf\n",
    "from tensorflow.keras.models import Sequential\n",
    "from tensorflow.keras.layers import Conv2D, AveragePooling2D, Flatten, Dense\n",
    "import matplotlib.pyplot as plt\n",
    "from sklearn.metrics import classification_report, accuracy_score\n",
    "import numpy as np\n",
    "import matplotlib.pyplot as plt\n",
    "import tensorflow as tf"
   ]
  },
  {
   "cell_type": "code",
   "execution_count": null,
   "metadata": {
    "execution": {
     "iopub.execute_input": "2024-11-02T15:36:03.164861Z",
     "iopub.status.busy": "2024-11-02T15:36:03.164320Z",
     "iopub.status.idle": "2024-11-02T15:37:20.304560Z",
     "shell.execute_reply": "2024-11-02T15:37:20.303106Z",
     "shell.execute_reply.started": "2024-11-02T15:36:03.164813Z"
    },
    "trusted": true
   },
   "outputs": [],
   "source": [
    "img_rows, img_cols = 64,264\n",
    "\n",
    "data_path = '/kaggle/input/parkinson-xray/parkinson_xray/'\n",
    "x,y = [], []\n",
    "classes = os.listdir(data_path)\n",
    "\n",
    "for (index, class_path) in enumerate(classes):\n",
    "    for img_path in os.listdir(f\"{data_path}{class_path}\"):\n",
    "        path = f\"{data_path}{class_path}/{img_path}\"\n",
    "        image = tf.keras.preprocessing.image.load_img(path, target_size=(img_rows, img_cols), color_mode='grayscale')\n",
    "        image = tf.keras.preprocessing.image.img_to_array(image)\n",
    "\n",
    "        x.append(image)\n",
    "        y.append(index)\n",
    "\n",
    "x = np.array(x)\n",
    "y = np.array(y)\n",
    "\n",
    "x = x.astype('float32')/255"
   ]
  },
  {
   "cell_type": "markdown",
   "metadata": {},
   "source": [
    "## Data Preprocessing"
   ]
  },
  {
   "cell_type": "markdown",
   "metadata": {},
   "source": [
    "### Splitting Dataset"
   ]
  },
  {
   "cell_type": "code",
   "execution_count": null,
   "metadata": {
    "execution": {
     "iopub.execute_input": "2024-11-02T15:38:06.928865Z",
     "iopub.status.busy": "2024-11-02T15:38:06.928370Z",
     "iopub.status.idle": "2024-11-02T15:38:07.069266Z",
     "shell.execute_reply": "2024-11-02T15:38:07.067918Z",
     "shell.execute_reply.started": "2024-11-02T15:38:06.928818Z"
    },
    "trusted": true
   },
   "outputs": [],
   "source": [
    "X_train, X_temp, y_train, y_temp = train_test_split(x, y, test_size=0.3, random_state=42)\n",
    "X_val, X_test, y_val, y_test = train_test_split(X_temp, y_temp, test_size=2/3, random_state=42)\n",
    "\n",
    "import keras\n",
    "y_train = keras.utils.to_categorical(y_train, num_classes=2)\n",
    "y_test = keras.utils.to_categorical(y_test, num_classes=2)\n",
    "y_val = keras.utils.to_categorical(y_val, num_classes=2)\n",
    "\n",
    "print(f\"Training set: {len(X_train)} images\")\n",
    "print(f\"Validation set: {len(X_val)} images\")\n",
    "print(f\"Test set: {len(X_test)} images\")\n",
    "\n",
    "# Data augmentation\n",
    "train_datagen = ImageDataGenerator(\n",
    "    rotation_range=20,\n",
    "    width_shift_range=0.2,\n",
    "    height_shift_range=0.2,\n",
    "    shear_range=0.2,\n",
    "    zoom_range=0.2,\n",
    "    horizontal_flip=True\n",
    ")\n",
    "\n",
    "# # Create data generators\n",
    "# train_generator = train_datagen.flow(X_train, y_train, batch_size=32)\n",
    "# val_generator = train_datagen.flow(X_val, y_val, batch_size=32)\n",
    "# test_generator = train_datagen.flow(X_test, y_test, batch_size=32, shuffle=True)"
   ]
  },
  {
   "cell_type": "code",
   "execution_count": null,
   "metadata": {
    "execution": {
     "iopub.execute_input": "2024-11-02T15:38:08.811705Z",
     "iopub.status.busy": "2024-11-02T15:38:08.811246Z",
     "iopub.status.idle": "2024-11-02T15:38:08.820052Z",
     "shell.execute_reply": "2024-11-02T15:38:08.818556Z",
     "shell.execute_reply.started": "2024-11-02T15:38:08.811648Z"
    },
    "trusted": true
   },
   "outputs": [],
   "source": [
    "X_train.shape\n",
    "y_train.shape"
   ]
  },
  {
   "cell_type": "markdown",
   "metadata": {},
   "source": [
    "## Building Model"
   ]
  },
  {
   "cell_type": "code",
   "execution_count": null,
   "metadata": {
    "execution": {
     "iopub.execute_input": "2024-11-02T15:38:10.408559Z",
     "iopub.status.busy": "2024-11-02T15:38:10.408088Z",
     "iopub.status.idle": "2024-11-02T15:38:10.500487Z",
     "shell.execute_reply": "2024-11-02T15:38:10.499300Z",
     "shell.execute_reply.started": "2024-11-02T15:38:10.408515Z"
    },
    "trusted": true
   },
   "outputs": [],
   "source": [
    "model = Sequential([\n",
    "    Conv2D(6, (5, 5), padding='same', activation='relu', input_shape=(64, 264, 1)),\n",
    "    AveragePooling2D(pool_size=(2, 2), strides=2),\n",
    "    \n",
    "    Conv2D(16, (5, 5), activation='relu'),\n",
    "    AveragePooling2D(pool_size=(2, 2), strides=2),\n",
    "    \n",
    "    Flatten(),  \n",
    "    Dense(120, activation='relu'),\n",
    "    Dense(84, activation='relu'),\n",
    "    Dense(10, activation='relu'),\n",
    "    Dense(2, activation='sigmoid')  \n",
    "])\n",
    "\n",
    "model.compile(optimizer='adam', loss='binary_crossentropy', metrics=['accuracy'])"
   ]
  },
  {
   "cell_type": "markdown",
   "metadata": {},
   "source": [
    "### Model Training"
   ]
  },
  {
   "cell_type": "code",
   "execution_count": null,
   "metadata": {
    "execution": {
     "iopub.execute_input": "2024-11-02T15:38:12.210579Z",
     "iopub.status.busy": "2024-11-02T15:38:12.210099Z",
     "iopub.status.idle": "2024-11-02T15:40:26.578082Z",
     "shell.execute_reply": "2024-11-02T15:40:26.576811Z",
     "shell.execute_reply.started": "2024-11-02T15:38:12.210533Z"
    },
    "trusted": true
   },
   "outputs": [],
   "source": [
    "history = model.fit(\n",
    "    X_train,\n",
    "    y_train,\n",
    "    batch_size=42,\n",
    "    epochs=5,\n",
    "    validation_data=(X_val, y_val)\n",
    ")"
   ]
  },
  {
   "cell_type": "markdown",
   "metadata": {},
   "source": [
    "### Model Evaluate"
   ]
  },
  {
   "cell_type": "code",
   "execution_count": null,
   "metadata": {
    "execution": {
     "iopub.execute_input": "2024-11-02T15:40:29.205392Z",
     "iopub.status.busy": "2024-11-02T15:40:29.204916Z",
     "iopub.status.idle": "2024-11-02T15:40:31.336919Z",
     "shell.execute_reply": "2024-11-02T15:40:31.335558Z",
     "shell.execute_reply.started": "2024-11-02T15:40:29.205344Z"
    },
    "trusted": true
   },
   "outputs": [],
   "source": [
    "test_loss, test_accuracy = model.evaluate(X_test, y_test)\n",
    "print(f\"Test accuracy: {test_accuracy * 100:.2f}%\")"
   ]
  },
  {
   "cell_type": "markdown",
   "metadata": {},
   "source": [
    "## Plotting"
   ]
  },
  {
   "cell_type": "code",
   "execution_count": null,
   "metadata": {
    "execution": {
     "iopub.execute_input": "2024-11-02T15:40:32.412538Z",
     "iopub.status.busy": "2024-11-02T15:40:32.412107Z",
     "iopub.status.idle": "2024-11-02T15:40:32.760627Z",
     "shell.execute_reply": "2024-11-02T15:40:32.759216Z",
     "shell.execute_reply.started": "2024-11-02T15:40:32.412499Z"
    },
    "trusted": true
   },
   "outputs": [],
   "source": [
    "plt.plot(history.history['loss'], label='Train Loss')\n",
    "plt.plot(history.history['val_loss'], label='Validation Loss')\n",
    "plt.xlabel('Epoch')\n",
    "plt.ylabel('Loss')\n",
    "plt.legend()\n",
    "plt.title('Training Loss vs Validation Loss')\n",
    "plt.show()"
   ]
  },
  {
   "cell_type": "code",
   "execution_count": null,
   "metadata": {
    "execution": {
     "iopub.execute_input": "2024-11-02T15:40:34.630244Z",
     "iopub.status.busy": "2024-11-02T15:40:34.629805Z",
     "iopub.status.idle": "2024-11-02T15:40:34.921607Z",
     "shell.execute_reply": "2024-11-02T15:40:34.920398Z",
     "shell.execute_reply.started": "2024-11-02T15:40:34.630204Z"
    },
    "trusted": true
   },
   "outputs": [],
   "source": [
    "plt.plot(history.history['accuracy'], label='Train Accuracy')\n",
    "plt.plot(history.history['val_accuracy'], label='Validation Accuracy')\n",
    "plt.xlabel('Epoch')\n",
    "plt.ylabel('Accuracy')\n",
    "plt.legend()\n",
    "plt.title('Training Accuracy vs Validation Accuracy')\n",
    "plt.show()"
   ]
  },
  {
   "cell_type": "markdown",
   "metadata": {},
   "source": [
    "## Model Predict"
   ]
  },
  {
   "cell_type": "code",
   "execution_count": null,
   "metadata": {
    "execution": {
     "iopub.execute_input": "2024-11-02T15:40:37.229086Z",
     "iopub.status.busy": "2024-11-02T15:40:37.228184Z",
     "iopub.status.idle": "2024-11-02T15:40:39.469454Z",
     "shell.execute_reply": "2024-11-02T15:40:39.468399Z",
     "shell.execute_reply.started": "2024-11-02T15:40:37.229023Z"
    },
    "trusted": true
   },
   "outputs": [],
   "source": [
    "prediction = model.predict(X_test)\n",
    "prediction_labels = np.argmax(prediction, axis=1)"
   ]
  },
  {
   "cell_type": "code",
   "execution_count": null,
   "metadata": {
    "execution": {
     "iopub.execute_input": "2024-11-02T15:40:46.255553Z",
     "iopub.status.busy": "2024-11-02T15:40:46.255108Z",
     "iopub.status.idle": "2024-11-02T15:40:46.262883Z",
     "shell.execute_reply": "2024-11-02T15:40:46.261518Z",
     "shell.execute_reply.started": "2024-11-02T15:40:46.255511Z"
    },
    "trusted": true
   },
   "outputs": [],
   "source": [
    "for i in range(10):\n",
    "    prediction = classes[prediction_labels[i]]\n",
    "    actual = classes[np.argmax(y_test[i])]\n",
    "    print(f\"Prediction: {prediction}, Actual: {actual}\")"
   ]
  },
  {
   "cell_type": "code",
   "execution_count": null,
   "metadata": {
    "execution": {
     "iopub.execute_input": "2024-11-02T15:40:47.980307Z",
     "iopub.status.busy": "2024-11-02T15:40:47.979566Z",
     "iopub.status.idle": "2024-11-02T15:40:48.266417Z",
     "shell.execute_reply": "2024-11-02T15:40:48.265376Z",
     "shell.execute_reply.started": "2024-11-02T15:40:47.980252Z"
    },
    "trusted": true
   },
   "outputs": [],
   "source": [
    "plt.figure(figsize=(10,6))\n",
    "plt.plot(history.history['accuracy'], label=\"Training Accuracy\")\n",
    "plt.plot(history.history['val_accuracy'], label='validation accuracy')\n",
    "plt.grid()\n",
    "plt.xlabel(\"Accuracy\")\n",
    "plt.ylabel(\"Epochs\")\n",
    "plt.title(\"Accuracy\")\n",
    "plt.show()"
   ]
  },
  {
   "cell_type": "code",
   "execution_count": null,
   "metadata": {
    "execution": {
     "iopub.execute_input": "2024-11-02T15:40:50.377646Z",
     "iopub.status.busy": "2024-11-02T15:40:50.377216Z",
     "iopub.status.idle": "2024-11-02T15:40:50.631003Z",
     "shell.execute_reply": "2024-11-02T15:40:50.629731Z",
     "shell.execute_reply.started": "2024-11-02T15:40:50.377605Z"
    },
    "trusted": true
   },
   "outputs": [],
   "source": [
    "plt.plot(history.history['val_accuracy'], label=\"Training Loss\")\n",
    "plt.plot(history.history['val_loss'], label='validation loss')\n",
    "plt.grid()\n",
    "plt.xlabel(\"Loss\")\n",
    "plt.ylabel(\"Epochs\")\n",
    "plt.title(\"Loss\")\n",
    "plt.show()"
   ]
  },
  {
   "cell_type": "code",
   "execution_count": null,
   "metadata": {
    "execution": {
     "iopub.execute_input": "2024-11-02T15:40:53.181848Z",
     "iopub.status.busy": "2024-11-02T15:40:53.181350Z",
     "iopub.status.idle": "2024-11-02T15:40:58.339106Z",
     "shell.execute_reply": "2024-11-02T15:40:58.337867Z",
     "shell.execute_reply.started": "2024-11-02T15:40:53.181802Z"
    },
    "trusted": true
   },
   "outputs": [],
   "source": [
    "from sklearn.metrics import classification_report, confusion_matrix\n",
    "import seaborn as sns\n",
    "import matplotlib.pyplot as plt\n",
    "import numpy as np\n",
    "\n",
    "# Evaluate the model on the test set\n",
    "test_loss, test_accuracy = model.evaluate(X_test, y_test, verbose=0)\n",
    "print(f\"Test accuracy: {test_accuracy * 100:.2f}%\")\n",
    "\n",
    "# Make predictions\n",
    "predictions = model.predict(X_test)\n",
    "prediction_labels = np.argmax(predictions, axis=1)\n",
    "true_labels = np.argmax(y_test, axis=1)\n",
    "\n",
    "# Generate classification report\n",
    "report = classification_report(true_labels, prediction_labels, target_names=classes)\n",
    "print(\"\\nClassification Report:\\n\", report)\n",
    "\n",
    "# Confusion Matrix\n",
    "conf_matrix = confusion_matrix(true_labels, prediction_labels)\n",
    "\n",
    "# Plot the confusion matrix\n",
    "plt.figure(figsize=(6, 4))\n",
    "sns.heatmap(conf_matrix, annot=True, fmt=\"d\", cmap=\"Blues\", xticklabels=classes, yticklabels=classes)\n",
    "plt.xlabel('Predicted')\n",
    "plt.ylabel('True')\n",
    "plt.title('Confusion Matrix')\n",
    "plt.show()"
   ]
  },
  {
   "cell_type": "code",
   "execution_count": null,
   "metadata": {
    "execution": {
     "iopub.execute_input": "2024-11-02T15:40:59.718790Z",
     "iopub.status.busy": "2024-11-02T15:40:59.717983Z",
     "iopub.status.idle": "2024-11-02T15:41:01.389126Z",
     "shell.execute_reply": "2024-11-02T15:41:01.387767Z",
     "shell.execute_reply.started": "2024-11-02T15:40:59.718740Z"
    },
    "trusted": true
   },
   "outputs": [],
   "source": [
    "import matplotlib.pyplot as plt\n",
    "\n",
    "# Number of samples to display\n",
    "num_samples = 20  \n",
    "class_names = ['Normal', 'Pneumonia']  # Adjust as needed for your classes\n",
    "\n",
    "# Select a subset of the test set\n",
    "test_images = X_test[:num_samples]\n",
    "test_labels = y_test[:num_samples]\n",
    "\n",
    "# Make predictions\n",
    "predictions = (model.predict(test_images) > 0.5).astype(\"int32\")\n",
    "\n",
    "# Convert one-hot encoded labels back to integer class labels\n",
    "true_labels = np.argmax(test_labels, axis=1)\n",
    "predicted_labels = np.argmax(predictions, axis=1)\n",
    "\n",
    "# Plot the images with predicted and actual labels\n",
    "plt.figure(figsize=(12, 6))\n",
    "rows, cols = 4, 5  \n",
    "\n",
    "for i in range(num_samples):\n",
    "    plt.subplot(rows, cols, i + 1)\n",
    "    plt.imshow(test_images[i].squeeze(), cmap='gray')\n",
    "    actual_label = class_names[true_labels[i]]\n",
    "    predicted_label = class_names[predicted_labels[i]]\n",
    "    plt.title(f\"Predicted: {predicted_label}\\nActual: {actual_label}\")\n",
    "    plt.axis('off')\n",
    "\n",
    "plt.tight_layout()\n",
    "plt.show()"
   ]
  },
  {
   "cell_type": "markdown",
   "metadata": {},
   "source": [
    "## Penjelasan\n",
    "\n",
    "Model ini menggunakan jaringan saraf konvolusi (CNN) dengan dua lapisan konvolusi dan pooling untuk ekstraksi fitur dari gambar.\n",
    "\n",
    "1. Input dan Preprocessing: Gambar masuk dalam bentuk grayscale 64x64. Konvolusi pertama memiliki 6 filter berukuran 5x5 dengan padding ‘same’ untuk menjaga dimensi gambar. Fitur dasar seperti tepi dan tekstur diekstrak, lalu di-downsample melalui average pooling (2x2, stride 2) untuk mengurangi dimensi tanpa kehilangan informasi inti.\n",
    "\n",
    "2. Ekstraksi Fitur: Lapisan konvolusi kedua dengan filter serupa mendeteksi pola lebih kompleks, seperti bentuk atau pola kecil, yang diikuti oleh average pooling untuk lebih lanjut mengurangi dimensi.\n",
    "\n",
    "3. Flatten dan Dense Layers: Setelah pooling, output di-flatten menjadi vektor 1D, lalu masuk ke tiga fully connected (dense) layers. Lapisan dense berturut-turut (120, 84, dan 10 unit) bertugas untuk menggabungkan fitur-fitur abstrak dan mempersiapkan hasil akhir.\n",
    "\n",
    "4. Output: Lapisan terakhir dengan satu neuron dan aktivasi sigmoid menghasilkan nilai antara 0 dan 1 untuk klasifikasi biner (Normal atau Pneumonia).\n",
    "\n",
    "## Hasil Dari Testing Model\n",
    "\n",
    "- Kita mengetahui bahwa kita medapatkan Model Test Accuracy sebesar 96.07% \n",
    "- Pada Visualisasi Train Accuracy, Validation Accuracy, Train Loss, dan Validation Loss juga menunjukan hasil yang cukup bagus dengan adanya kenaikan pada Train Accuracy, Validation dan penurunan terhadap Train Loss dan Validation Lossnya.\n",
    "- Setelah melakukan Test terhadap Dataset kita mendapatkan adanya 3 prediksi model yang meleset dari 20 kali uji coba yang artinya kita bisa menyimpulkan bahwa model yang kita pakai memiliki accuracy yang cukup bagus yaitu sekitar kurang lebih 90%"
   ]
  }
 ],
 "metadata": {
  "kaggle": {
   "accelerator": "none",
   "dataSources": [
    {
     "datasetId": 5992901,
     "sourceId": 9781984,
     "sourceType": "datasetVersion"
    },
    {
     "datasetId": 5993755,
     "sourceId": 9783110,
     "sourceType": "datasetVersion"
    }
   ],
   "dockerImageVersionId": 30786,
   "isGpuEnabled": false,
   "isInternetEnabled": true,
   "language": "python",
   "sourceType": "notebook"
  },
  "kernelspec": {
   "display_name": "Python 3",
   "language": "python",
   "name": "python3"
  },
  "language_info": {
   "codemirror_mode": {
    "name": "ipython",
    "version": 3
   },
   "file_extension": ".py",
   "mimetype": "text/x-python",
   "name": "python",
   "nbconvert_exporter": "python",
   "pygments_lexer": "ipython3",
   "version": "3.10.14"
  }
 },
 "nbformat": 4,
 "nbformat_minor": 4
}
